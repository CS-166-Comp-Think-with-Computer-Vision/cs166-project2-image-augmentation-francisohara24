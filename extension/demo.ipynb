{
 "cells": [
  {
   "cell_type": "markdown",
   "source": [
    "# Welcome to the Image Puzzle Game"
   ],
   "metadata": {
    "collapsed": false
   },
   "id": "a89e1c4fdb74b066"
  },
  {
   "cell_type": "code",
   "execution_count": 2,
   "outputs": [
    {
     "name": "stdout",
     "output_type": "stream",
     "text": [
      "Welcome to the puzzle Game!\n"
     ]
    },
    {
     "ename": "ValueError",
     "evalue": "invalid literal for int() with base 10: ''",
     "output_type": "error",
     "traceback": [
      "\u001B[0;31m---------------------------------------------------------------------------\u001B[0m",
      "\u001B[0;31mValueError\u001B[0m                                Traceback (most recent call last)",
      "Cell \u001B[0;32mIn[2], line 11\u001B[0m\n\u001B[1;32m      2\u001B[0m \u001B[38;5;124;03m\"\"\"\u001B[39;00m\n\u001B[1;32m      3\u001B[0m \u001B[38;5;124;03m██████╗ ██╗      █████╗ ██╗   ██╗\u001B[39;00m\n\u001B[1;32m      4\u001B[0m \u001B[38;5;124;03m██╔══██╗██║     ██╔══██╗╚██╗ ██╔╝\u001B[39;00m\n\u001B[0;32m   (...)\u001B[0m\n\u001B[1;32m      8\u001B[0m \u001B[38;5;124;03m╚═╝     ╚══════╝╚═╝  ╚═╝   ╚═╝                                    \u001B[39;00m\n\u001B[1;32m      9\u001B[0m \u001B[38;5;124;03m\"\"\"\u001B[39;00m\n\u001B[1;32m     10\u001B[0m \u001B[38;5;28;01mfrom\u001B[39;00m \u001B[38;5;21;01mmain\u001B[39;00m \u001B[38;5;28;01mimport\u001B[39;00m play\n\u001B[0;32m---> 11\u001B[0m \u001B[43mplay\u001B[49m\u001B[43m(\u001B[49m\u001B[43m)\u001B[49m\n",
      "File \u001B[0;32m~/DataspellProjects/cs166-project2-image-augmentation-francisohara24/extension/image_puzzle_game/main.py:25\u001B[0m, in \u001B[0;36mplay\u001B[0;34m()\u001B[0m\n\u001B[1;32m     22\u001B[0m user_destination \u001B[38;5;241m=\u001B[39m \u001B[38;5;28minput\u001B[39m(\u001B[38;5;124m\"\u001B[39m\u001B[38;5;124mWhere would you like to move it to\u001B[39m\u001B[38;5;130;01m\\n\u001B[39;00m\u001B[38;5;124m\"\u001B[39m)\n\u001B[1;32m     24\u001B[0m \u001B[38;5;66;03m# move tile and update empty slot and movable tiles\u001B[39;00m\n\u001B[0;32m---> 25\u001B[0m moved \u001B[38;5;241m=\u001B[39m game\u001B[38;5;241m.\u001B[39mmove(\u001B[38;5;28;43mint\u001B[39;49m\u001B[43m(\u001B[49m\u001B[43muser_tile\u001B[49m\u001B[43m)\u001B[49m, \u001B[38;5;28mint\u001B[39m(user_destination))\n\u001B[1;32m     26\u001B[0m \u001B[38;5;28;01mif\u001B[39;00m \u001B[38;5;129;01mnot\u001B[39;00m moved:\n\u001B[1;32m     27\u001B[0m     \u001B[38;5;28mprint\u001B[39m(\u001B[38;5;124m\"\u001B[39m\u001B[38;5;124mChoose a valid tile!\u001B[39m\u001B[38;5;130;01m\\n\u001B[39;00m\u001B[38;5;124m\"\u001B[39m)\n",
      "\u001B[0;31mValueError\u001B[0m: invalid literal for int() with base 10: ''"
     ]
    }
   ],
   "source": [
    "#!pip install pillow-puzzle-game\n",
    "\"\"\"\n",
    "██████╗ ██╗      █████╗ ██╗   ██╗\n",
    "██╔══██╗██║     ██╔══██╗╚██╗ ██╔╝\n",
    "██████╔╝██║     ███████║ ╚████╔╝ \n",
    "██╔═══╝ ██║     ██╔══██║  ╚██╔╝  \n",
    "██║     ███████╗██║  ██║   ██║   \n",
    "╚═╝     ╚══════╝╚═╝  ╚═╝   ╚═╝                                    \n",
    "\"\"\"\n",
    "from main import play\n",
    "play()"
   ],
   "metadata": {
    "collapsed": false,
    "ExecuteTime": {
     "end_time": "2023-10-10T00:46:24.672025Z",
     "start_time": "2023-10-10T00:46:15.781943Z"
    }
   },
   "id": "c59a401934400085"
  }
 ],
 "metadata": {
  "kernelspec": {
   "display_name": "Python 3",
   "language": "python",
   "name": "python3"
  },
  "language_info": {
   "codemirror_mode": {
    "name": "ipython",
    "version": 2
   },
   "file_extension": ".py",
   "mimetype": "text/x-python",
   "name": "python",
   "nbconvert_exporter": "python",
   "pygments_lexer": "ipython2",
   "version": "2.7.6"
  }
 },
 "nbformat": 4,
 "nbformat_minor": 5
}
